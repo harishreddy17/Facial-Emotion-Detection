{
 "cells": [
  {
   "cell_type": "code",
   "execution_count": 1,
   "id": "b2e7aef2",
   "metadata": {},
   "outputs": [],
   "source": [
    "from keras.utils import to_categorical\n",
    "from keras_preprocessing.image import load_img\n",
    "from keras.models import Sequential\n",
    "from keras.layers import Dense, Conv2D, Dropout, Flatten, MaxPooling2D\n",
    "import os\n",
    "import pandas as pd\n",
    "import numpy as np\n",
    "from tensorflow.keras.preprocessing.image import ImageDataGenerator"
   ]
  },
  {
   "cell_type": "markdown",
   "id": "4e92fd68",
   "metadata": {},
   "source": [
    "* imports essential libraries from Keras and TensorFlow for building and training deep learning models, including functions for image processing and model construction."
   ]
  },
  {
   "cell_type": "code",
   "execution_count": 2,
   "id": "7f915cbd",
   "metadata": {},
   "outputs": [],
   "source": [
    "train_data_dir = r'C:\\Users\\haris\\OneDrive\\Desktop\\Computer Vision\\train'\n",
    "test_data_dir = r'C:\\Users\\haris\\OneDrive\\Desktop\\Computer Vision\\test'"
   ]
  },
  {
   "cell_type": "markdown",
   "id": "216c2cda",
   "metadata": {},
   "source": [
    "* Imported Training and Testing Data"
   ]
  },
  {
   "cell_type": "code",
   "execution_count": 3,
   "id": "83a35e50",
   "metadata": {},
   "outputs": [],
   "source": [
    "def createdataframe(dir):\n",
    "    image_paths = []\n",
    "    labels = []\n",
    "    for label in os.listdir(dir):\n",
    "        for imagename in os.listdir(os.path.join(dir,label)):\n",
    "            image_paths.append(os.path.join(dir,label,imagename))\n",
    "            labels.append(label)\n",
    "        print(label, \"completed\")\n",
    "    return image_paths,labels"
   ]
  },
  {
   "cell_type": "markdown",
   "id": "33116578",
   "metadata": {},
   "source": [
    "* The createdataframe function creates a list of image file paths and their corresponding labels from a specified directory, which is structured with subdirectories for each label\n",
    "* It iterates through each label directory, collecting paths of images and appending the label to a list, allowing for easy association between images and their respective categories."
   ]
  },
  {
   "cell_type": "code",
   "execution_count": 4,
   "id": "51c9a75a",
   "metadata": {},
   "outputs": [
    {
     "name": "stdout",
     "output_type": "stream",
     "text": [
      "angry completed\n",
      "disgust completed\n",
      "fear completed\n",
      "happy completed\n",
      "neutral completed\n",
      "sad completed\n",
      "surprise completed\n"
     ]
    }
   ],
   "source": [
    "train = pd.DataFrame()\n",
    "train['image'], train['label'] = createdataframe(train_data_dir)"
   ]
  },
  {
   "cell_type": "code",
   "execution_count": 5,
   "id": "541f059a",
   "metadata": {},
   "outputs": [
    {
     "name": "stdout",
     "output_type": "stream",
     "text": [
      "                                                   image     label\n",
      "0      C:\\Users\\haris\\OneDrive\\Desktop\\Computer Visio...     angry\n",
      "1      C:\\Users\\haris\\OneDrive\\Desktop\\Computer Visio...     angry\n",
      "2      C:\\Users\\haris\\OneDrive\\Desktop\\Computer Visio...     angry\n",
      "3      C:\\Users\\haris\\OneDrive\\Desktop\\Computer Visio...     angry\n",
      "4      C:\\Users\\haris\\OneDrive\\Desktop\\Computer Visio...     angry\n",
      "...                                                  ...       ...\n",
      "28704  C:\\Users\\haris\\OneDrive\\Desktop\\Computer Visio...  surprise\n",
      "28705  C:\\Users\\haris\\OneDrive\\Desktop\\Computer Visio...  surprise\n",
      "28706  C:\\Users\\haris\\OneDrive\\Desktop\\Computer Visio...  surprise\n",
      "28707  C:\\Users\\haris\\OneDrive\\Desktop\\Computer Visio...  surprise\n",
      "28708  C:\\Users\\haris\\OneDrive\\Desktop\\Computer Visio...  surprise\n",
      "\n",
      "[28709 rows x 2 columns]\n"
     ]
    }
   ],
   "source": [
    "print(train)\n"
   ]
  },
  {
   "cell_type": "code",
   "execution_count": 6,
   "id": "712e551e",
   "metadata": {},
   "outputs": [
    {
     "name": "stdout",
     "output_type": "stream",
     "text": [
      "angry completed\n",
      "disgust completed\n",
      "fear completed\n",
      "happy completed\n",
      "neutral completed\n",
      "sad completed\n",
      "surprise completed\n"
     ]
    }
   ],
   "source": [
    "test = pd.DataFrame()\n",
    "test['image'], test['label'] = createdataframe(test_data_dir)"
   ]
  },
  {
   "cell_type": "code",
   "execution_count": 7,
   "id": "9ef11718",
   "metadata": {},
   "outputs": [
    {
     "name": "stdout",
     "output_type": "stream",
     "text": [
      "                                                  image     label\n",
      "0     C:\\Users\\haris\\OneDrive\\Desktop\\Computer Visio...     angry\n",
      "1     C:\\Users\\haris\\OneDrive\\Desktop\\Computer Visio...     angry\n",
      "2     C:\\Users\\haris\\OneDrive\\Desktop\\Computer Visio...     angry\n",
      "3     C:\\Users\\haris\\OneDrive\\Desktop\\Computer Visio...     angry\n",
      "4     C:\\Users\\haris\\OneDrive\\Desktop\\Computer Visio...     angry\n",
      "...                                                 ...       ...\n",
      "7173  C:\\Users\\haris\\OneDrive\\Desktop\\Computer Visio...  surprise\n",
      "7174  C:\\Users\\haris\\OneDrive\\Desktop\\Computer Visio...  surprise\n",
      "7175  C:\\Users\\haris\\OneDrive\\Desktop\\Computer Visio...  surprise\n",
      "7176  C:\\Users\\haris\\OneDrive\\Desktop\\Computer Visio...  surprise\n",
      "7177  C:\\Users\\haris\\OneDrive\\Desktop\\Computer Visio...  surprise\n",
      "\n",
      "[7178 rows x 2 columns]\n",
      "0       C:\\Users\\haris\\OneDrive\\Desktop\\Computer Visio...\n",
      "1       C:\\Users\\haris\\OneDrive\\Desktop\\Computer Visio...\n",
      "2       C:\\Users\\haris\\OneDrive\\Desktop\\Computer Visio...\n",
      "3       C:\\Users\\haris\\OneDrive\\Desktop\\Computer Visio...\n",
      "4       C:\\Users\\haris\\OneDrive\\Desktop\\Computer Visio...\n",
      "                              ...                        \n",
      "7173    C:\\Users\\haris\\OneDrive\\Desktop\\Computer Visio...\n",
      "7174    C:\\Users\\haris\\OneDrive\\Desktop\\Computer Visio...\n",
      "7175    C:\\Users\\haris\\OneDrive\\Desktop\\Computer Visio...\n",
      "7176    C:\\Users\\haris\\OneDrive\\Desktop\\Computer Visio...\n",
      "7177    C:\\Users\\haris\\OneDrive\\Desktop\\Computer Visio...\n",
      "Name: image, Length: 7178, dtype: object\n"
     ]
    }
   ],
   "source": [
    "print(test)\n",
    "print(test['image'])"
   ]
  },
  {
   "cell_type": "code",
   "execution_count": 8,
   "id": "11b98c0c",
   "metadata": {},
   "outputs": [],
   "source": [
    "from tqdm.notebook import tqdm\n"
   ]
  },
  {
   "cell_type": "code",
   "execution_count": 9,
   "id": "ce372bb3",
   "metadata": {},
   "outputs": [],
   "source": [
    "def extract_features(images):\n",
    "    features = []\n",
    "    for image in tqdm(images):\n",
    "        img = load_img(image,grayscale =  True )\n",
    "        img = np.array(img)\n",
    "        features.append(img)\n",
    "    features = np.array(features)\n",
    "    features = features.reshape(len(features),48,48,1)\n",
    "    return features"
   ]
  },
  {
   "cell_type": "markdown",
   "id": "30defe3f",
   "metadata": {},
   "source": [
    "* The extract_features function extracts and processes image features from a list of image file paths, converting them into a standardized format for model input.\n",
    "* It utilizes load_img to load each image in grayscale mode and then converts the loaded image to a NumPy array for further processing.\n",
    "* After collecting all image arrays in a list, the function reshapes the resulting NumPy array to have dimensions compatible with model input, specifically reshaping it to (number of images, 48, 48, 1) to denote height, width, and channel for grayscale images."
   ]
  },
  {
   "cell_type": "code",
   "execution_count": 10,
   "id": "2bb8aac1",
   "metadata": {},
   "outputs": [
    {
     "data": {
      "application/vnd.jupyter.widget-view+json": {
       "model_id": "e9c43947f29a4b80a892e56e38bbefd9",
       "version_major": 2,
       "version_minor": 0
      },
      "text/plain": [
       "  0%|          | 0/28709 [00:00<?, ?it/s]"
      ]
     },
     "metadata": {},
     "output_type": "display_data"
    },
    {
     "name": "stderr",
     "output_type": "stream",
     "text": [
      "C:\\Users\\haris\\AppData\\Local\\Programs\\Python\\Python311\\Lib\\site-packages\\keras_preprocessing\\image\\utils.py:107: UserWarning: grayscale is deprecated. Please use color_mode = \"grayscale\"\n",
      "  warnings.warn('grayscale is deprecated. Please use '\n"
     ]
    }
   ],
   "source": [
    "train_features = extract_features(train['image']) \n"
   ]
  },
  {
   "cell_type": "markdown",
   "id": "e95c2999",
   "metadata": {},
   "source": [
    "* The code calls the extract_features function to process the images listed in the train DataFrame under the 'image' column."
   ]
  },
  {
   "cell_type": "code",
   "execution_count": 11,
   "id": "4ece78c2",
   "metadata": {},
   "outputs": [
    {
     "data": {
      "application/vnd.jupyter.widget-view+json": {
       "model_id": "b9ce0133fab14d508af7fe9a9724df05",
       "version_major": 2,
       "version_minor": 0
      },
      "text/plain": [
       "  0%|          | 0/7178 [00:00<?, ?it/s]"
      ]
     },
     "metadata": {},
     "output_type": "display_data"
    }
   ],
   "source": [
    "test_features = extract_features(test['image'])"
   ]
  },
  {
   "cell_type": "markdown",
   "id": "52b21486",
   "metadata": {},
   "source": [
    "* The code calls the extract_features function to process the images listed in the train DataFrame under the 'image' column."
   ]
  },
  {
   "cell_type": "code",
   "execution_count": 12,
   "id": "f1f85d19",
   "metadata": {},
   "outputs": [],
   "source": [
    "x_train = train_features/255.0\n",
    "x_test = test_features/255.0"
   ]
  },
  {
   "cell_type": "markdown",
   "id": "85a6c941",
   "metadata": {},
   "source": [
    "* The code normalizes the training and testing feature arrays (train_features and test_features) by dividing by 255.0. This scales pixel values from the range of 0-255 to a range of 0-1."
   ]
  },
  {
   "cell_type": "code",
   "execution_count": 13,
   "id": "18825f7e",
   "metadata": {},
   "outputs": [],
   "source": [
    "from sklearn.preprocessing import LabelEncoder\n"
   ]
  },
  {
   "cell_type": "code",
   "execution_count": 14,
   "id": "0eeb22e2",
   "metadata": {},
   "outputs": [
    {
     "data": {
      "text/html": [
       "<style>#sk-container-id-1 {color: black;}#sk-container-id-1 pre{padding: 0;}#sk-container-id-1 div.sk-toggleable {background-color: white;}#sk-container-id-1 label.sk-toggleable__label {cursor: pointer;display: block;width: 100%;margin-bottom: 0;padding: 0.3em;box-sizing: border-box;text-align: center;}#sk-container-id-1 label.sk-toggleable__label-arrow:before {content: \"▸\";float: left;margin-right: 0.25em;color: #696969;}#sk-container-id-1 label.sk-toggleable__label-arrow:hover:before {color: black;}#sk-container-id-1 div.sk-estimator:hover label.sk-toggleable__label-arrow:before {color: black;}#sk-container-id-1 div.sk-toggleable__content {max-height: 0;max-width: 0;overflow: hidden;text-align: left;background-color: #f0f8ff;}#sk-container-id-1 div.sk-toggleable__content pre {margin: 0.2em;color: black;border-radius: 0.25em;background-color: #f0f8ff;}#sk-container-id-1 input.sk-toggleable__control:checked~div.sk-toggleable__content {max-height: 200px;max-width: 100%;overflow: auto;}#sk-container-id-1 input.sk-toggleable__control:checked~label.sk-toggleable__label-arrow:before {content: \"▾\";}#sk-container-id-1 div.sk-estimator input.sk-toggleable__control:checked~label.sk-toggleable__label {background-color: #d4ebff;}#sk-container-id-1 div.sk-label input.sk-toggleable__control:checked~label.sk-toggleable__label {background-color: #d4ebff;}#sk-container-id-1 input.sk-hidden--visually {border: 0;clip: rect(1px 1px 1px 1px);clip: rect(1px, 1px, 1px, 1px);height: 1px;margin: -1px;overflow: hidden;padding: 0;position: absolute;width: 1px;}#sk-container-id-1 div.sk-estimator {font-family: monospace;background-color: #f0f8ff;border: 1px dotted black;border-radius: 0.25em;box-sizing: border-box;margin-bottom: 0.5em;}#sk-container-id-1 div.sk-estimator:hover {background-color: #d4ebff;}#sk-container-id-1 div.sk-parallel-item::after {content: \"\";width: 100%;border-bottom: 1px solid gray;flex-grow: 1;}#sk-container-id-1 div.sk-label:hover label.sk-toggleable__label {background-color: #d4ebff;}#sk-container-id-1 div.sk-serial::before {content: \"\";position: absolute;border-left: 1px solid gray;box-sizing: border-box;top: 0;bottom: 0;left: 50%;z-index: 0;}#sk-container-id-1 div.sk-serial {display: flex;flex-direction: column;align-items: center;background-color: white;padding-right: 0.2em;padding-left: 0.2em;position: relative;}#sk-container-id-1 div.sk-item {position: relative;z-index: 1;}#sk-container-id-1 div.sk-parallel {display: flex;align-items: stretch;justify-content: center;background-color: white;position: relative;}#sk-container-id-1 div.sk-item::before, #sk-container-id-1 div.sk-parallel-item::before {content: \"\";position: absolute;border-left: 1px solid gray;box-sizing: border-box;top: 0;bottom: 0;left: 50%;z-index: -1;}#sk-container-id-1 div.sk-parallel-item {display: flex;flex-direction: column;z-index: 1;position: relative;background-color: white;}#sk-container-id-1 div.sk-parallel-item:first-child::after {align-self: flex-end;width: 50%;}#sk-container-id-1 div.sk-parallel-item:last-child::after {align-self: flex-start;width: 50%;}#sk-container-id-1 div.sk-parallel-item:only-child::after {width: 0;}#sk-container-id-1 div.sk-dashed-wrapped {border: 1px dashed gray;margin: 0 0.4em 0.5em 0.4em;box-sizing: border-box;padding-bottom: 0.4em;background-color: white;}#sk-container-id-1 div.sk-label label {font-family: monospace;font-weight: bold;display: inline-block;line-height: 1.2em;}#sk-container-id-1 div.sk-label-container {text-align: center;}#sk-container-id-1 div.sk-container {/* jupyter's `normalize.less` sets `[hidden] { display: none; }` but bootstrap.min.css set `[hidden] { display: none !important; }` so we also need the `!important` here to be able to override the default hidden behavior on the sphinx rendered scikit-learn.org. See: https://github.com/scikit-learn/scikit-learn/issues/21755 */display: inline-block !important;position: relative;}#sk-container-id-1 div.sk-text-repr-fallback {display: none;}</style><div id=\"sk-container-id-1\" class=\"sk-top-container\"><div class=\"sk-text-repr-fallback\"><pre>LabelEncoder()</pre><b>In a Jupyter environment, please rerun this cell to show the HTML representation or trust the notebook. <br />On GitHub, the HTML representation is unable to render, please try loading this page with nbviewer.org.</b></div><div class=\"sk-container\" hidden><div class=\"sk-item\"><div class=\"sk-estimator sk-toggleable\"><input class=\"sk-toggleable__control sk-hidden--visually\" id=\"sk-estimator-id-1\" type=\"checkbox\" checked><label for=\"sk-estimator-id-1\" class=\"sk-toggleable__label sk-toggleable__label-arrow\">LabelEncoder</label><div class=\"sk-toggleable__content\"><pre>LabelEncoder()</pre></div></div></div></div></div>"
      ],
      "text/plain": [
       "LabelEncoder()"
      ]
     },
     "execution_count": 14,
     "metadata": {},
     "output_type": "execute_result"
    }
   ],
   "source": [
    "le = LabelEncoder()\n",
    "le.fit(train['label'])"
   ]
  },
  {
   "cell_type": "markdown",
   "id": "13dde094",
   "metadata": {},
   "source": [
    "* The code initializes a LabelEncoder object, which is used to convert categorical labels into a numerical format suitable for machine learning algorithms."
   ]
  },
  {
   "cell_type": "code",
   "execution_count": 15,
   "id": "9be64f4a",
   "metadata": {},
   "outputs": [],
   "source": [
    "y_train = le.transform(train['label'])\n",
    "y_test = le.transform(test['label'])"
   ]
  },
  {
   "cell_type": "code",
   "execution_count": 16,
   "id": "a94d084f",
   "metadata": {},
   "outputs": [],
   "source": [
    "y_train = to_categorical(y_train,num_classes = 7)\n",
    "y_test = to_categorical(y_test,num_classes = 7)"
   ]
  },
  {
   "cell_type": "markdown",
   "id": "8e817f4c",
   "metadata": {},
   "source": [
    "* The code uses the to_categorical function from Keras to convert the training labels (y_train) and testing labels (y_test) into one-hot encoded format, which transforms categorical integer labels into binary arrays."
   ]
  },
  {
   "cell_type": "code",
   "execution_count": 17,
   "id": "37c417ab",
   "metadata": {},
   "outputs": [],
   "source": [
    "model = Sequential()\n",
    "# convolutional layers\n",
    "model.add(Conv2D(32, kernel_size=(3,3), activation='relu', input_shape=(48,48,1)))\n",
    "model.add(MaxPooling2D(pool_size=(2,2)))\n",
    "model.add(Dropout(0.3))\n",
    "\n",
    "model.add(Conv2D(64, kernel_size=(3,3), activation='relu'))\n",
    "model.add(MaxPooling2D(pool_size=(2,2)))\n",
    "model.add(Dropout(0.3))\n",
    "\n",
    "model.add(Conv2D(128, kernel_size=(3,3), activation='relu'))\n",
    "model.add(MaxPooling2D(pool_size=(2,2)))\n",
    "model.add(Dropout(0.3))\n",
    "\n",
    "model.add(Conv2D(256, kernel_size=(3,3), activation='relu'))\n",
    "model.add(MaxPooling2D(pool_size=(2,2)))\n",
    "model.add(Dropout(0.3))\n",
    "\n",
    "model.add(Flatten())\n",
    "# fully connected layers\n",
    "model.add(Dense(128, activation='relu'))\n",
    "model.add(Dropout(0.3))\n",
    "# output layer\n",
    "model.add(Dense(7, activation='softmax'))"
   ]
  },
  {
   "cell_type": "markdown",
   "id": "f5e244c7",
   "metadata": {},
   "source": [
    "* A sequential neural network model is created using the Sequential class from Keras, allowing for a linear stack of layers.\n",
    "* Four convolutional layers (Conv2D) are added, each followed by a max pooling layer (MaxPooling2D) and a dropout layer (Dropout) to prevent overfitting. The convolutional layers use ReLU activation and progressively increase the number of filters (32, 64, 128, 256).\n",
    "* After the convolutional layers, the feature maps are flattened into a 1D array using Flatten(), and a fully connected layer (Dense) with 128 units and ReLU activation is added, followed by another dropout layer.\n",
    "* The final output layer is a dense layer with 7 units (one for each class) and a softmax activation function, allowing the model to output probability distributions across the seven classes for multi-class classification tasks."
   ]
  },
  {
   "cell_type": "code",
   "execution_count": 18,
   "id": "3af285bf",
   "metadata": {},
   "outputs": [],
   "source": [
    "model.compile(optimizer = 'adam', loss = 'categorical_crossentropy', metrics = 'accuracy' )"
   ]
  },
  {
   "cell_type": "code",
   "execution_count": 19,
   "id": "082bc3a9",
   "metadata": {},
   "outputs": [
    {
     "name": "stdout",
     "output_type": "stream",
     "text": [
      "Epoch 1/30\n",
      "449/449 [==============================] - 47s 99ms/step - loss: 1.8125 - accuracy: 0.2493 - val_loss: 1.7680 - val_accuracy: 0.2594\n",
      "Epoch 2/30\n",
      "449/449 [==============================] - 49s 109ms/step - loss: 1.6862 - accuracy: 0.3195 - val_loss: 1.5244 - val_accuracy: 0.4075\n",
      "Epoch 3/30\n",
      "449/449 [==============================] - 53s 118ms/step - loss: 1.5120 - accuracy: 0.4123 - val_loss: 1.3994 - val_accuracy: 0.4585\n",
      "Epoch 4/30\n",
      "449/449 [==============================] - 55s 122ms/step - loss: 1.4209 - accuracy: 0.4498 - val_loss: 1.3289 - val_accuracy: 0.4886\n",
      "Epoch 5/30\n",
      "449/449 [==============================] - 56s 124ms/step - loss: 1.3668 - accuracy: 0.4739 - val_loss: 1.2664 - val_accuracy: 0.5109\n",
      "Epoch 6/30\n",
      "449/449 [==============================] - 55s 122ms/step - loss: 1.3302 - accuracy: 0.4905 - val_loss: 1.2301 - val_accuracy: 0.5248\n",
      "Epoch 7/30\n",
      "449/449 [==============================] - 54s 120ms/step - loss: 1.2948 - accuracy: 0.5038 - val_loss: 1.2036 - val_accuracy: 0.5329\n",
      "Epoch 8/30\n",
      "449/449 [==============================] - 53s 118ms/step - loss: 1.2725 - accuracy: 0.5158 - val_loss: 1.1859 - val_accuracy: 0.5450\n",
      "Epoch 9/30\n",
      "449/449 [==============================] - 52s 115ms/step - loss: 1.2476 - accuracy: 0.5247 - val_loss: 1.1802 - val_accuracy: 0.5447\n",
      "Epoch 10/30\n",
      "449/449 [==============================] - 57s 127ms/step - loss: 1.2327 - accuracy: 0.5304 - val_loss: 1.1603 - val_accuracy: 0.5499\n",
      "Epoch 11/30\n",
      "449/449 [==============================] - 54s 119ms/step - loss: 1.2134 - accuracy: 0.5363 - val_loss: 1.1556 - val_accuracy: 0.5545\n",
      "Epoch 12/30\n",
      "449/449 [==============================] - 53s 118ms/step - loss: 1.2019 - accuracy: 0.5422 - val_loss: 1.1512 - val_accuracy: 0.5591\n",
      "Epoch 13/30\n",
      "449/449 [==============================] - 53s 119ms/step - loss: 1.1742 - accuracy: 0.5551 - val_loss: 1.1273 - val_accuracy: 0.5663\n",
      "Epoch 14/30\n",
      "449/449 [==============================] - 63s 140ms/step - loss: 1.1726 - accuracy: 0.5529 - val_loss: 1.1176 - val_accuracy: 0.5690\n",
      "Epoch 15/30\n",
      "449/449 [==============================] - 60s 135ms/step - loss: 1.1565 - accuracy: 0.5600 - val_loss: 1.1163 - val_accuracy: 0.5734\n",
      "Epoch 16/30\n",
      "449/449 [==============================] - 55s 122ms/step - loss: 1.1501 - accuracy: 0.5636 - val_loss: 1.1101 - val_accuracy: 0.5719\n",
      "Epoch 17/30\n",
      "449/449 [==============================] - 56s 126ms/step - loss: 1.1429 - accuracy: 0.5665 - val_loss: 1.1009 - val_accuracy: 0.5787\n",
      "Epoch 18/30\n",
      "449/449 [==============================] - 58s 128ms/step - loss: 1.1401 - accuracy: 0.5685 - val_loss: 1.1033 - val_accuracy: 0.5780\n",
      "Epoch 19/30\n",
      "449/449 [==============================] - 59s 132ms/step - loss: 1.1234 - accuracy: 0.5716 - val_loss: 1.0925 - val_accuracy: 0.5811\n",
      "Epoch 20/30\n",
      "449/449 [==============================] - 59s 131ms/step - loss: 1.1182 - accuracy: 0.5766 - val_loss: 1.0866 - val_accuracy: 0.5880\n",
      "Epoch 21/30\n",
      "449/449 [==============================] - 58s 130ms/step - loss: 1.1094 - accuracy: 0.5788 - val_loss: 1.0964 - val_accuracy: 0.5766\n",
      "Epoch 22/30\n",
      "449/449 [==============================] - 58s 130ms/step - loss: 1.1023 - accuracy: 0.5797 - val_loss: 1.0834 - val_accuracy: 0.5839\n",
      "Epoch 23/30\n",
      "449/449 [==============================] - 59s 132ms/step - loss: 1.0866 - accuracy: 0.5881 - val_loss: 1.0979 - val_accuracy: 0.5805\n",
      "Epoch 24/30\n",
      "449/449 [==============================] - 59s 132ms/step - loss: 1.0857 - accuracy: 0.5870 - val_loss: 1.0886 - val_accuracy: 0.5800\n",
      "Epoch 25/30\n",
      "449/449 [==============================] - 60s 133ms/step - loss: 1.0783 - accuracy: 0.5874 - val_loss: 1.0831 - val_accuracy: 0.5828\n",
      "Epoch 26/30\n",
      "449/449 [==============================] - 59s 132ms/step - loss: 1.0774 - accuracy: 0.5935 - val_loss: 1.0800 - val_accuracy: 0.5868\n",
      "Epoch 27/30\n",
      "449/449 [==============================] - 60s 133ms/step - loss: 1.0615 - accuracy: 0.5978 - val_loss: 1.0775 - val_accuracy: 0.5907\n",
      "Epoch 28/30\n",
      "449/449 [==============================] - 63s 139ms/step - loss: 1.0587 - accuracy: 0.5988 - val_loss: 1.0628 - val_accuracy: 0.5963\n",
      "Epoch 29/30\n",
      "449/449 [==============================] - 63s 141ms/step - loss: 1.0608 - accuracy: 0.5970 - val_loss: 1.0718 - val_accuracy: 0.5939\n",
      "Epoch 30/30\n",
      "449/449 [==============================] - 66s 146ms/step - loss: 1.0457 - accuracy: 0.6023 - val_loss: 1.0834 - val_accuracy: 0.5899\n"
     ]
    },
    {
     "data": {
      "text/plain": [
       "<keras.src.callbacks.History at 0x228f25c3810>"
      ]
     },
     "execution_count": 19,
     "metadata": {},
     "output_type": "execute_result"
    }
   ],
   "source": [
    "model.fit(x= x_train,y = y_train, batch_size = 64, epochs = 30, validation_data = (x_test,y_test))"
   ]
  },
  {
   "cell_type": "markdown",
   "id": "5048be1f",
   "metadata": {},
   "source": [
    "* Trained the Keras model on the training dataset (x_train and y_train) with 254 batch size with 30 epochs with validation data"
   ]
  },
  {
   "cell_type": "code",
   "execution_count": 20,
   "id": "0e6b224b",
   "metadata": {},
   "outputs": [
    {
     "name": "stderr",
     "output_type": "stream",
     "text": [
      "C:\\Users\\haris\\AppData\\Local\\Programs\\Python\\Python311\\Lib\\site-packages\\keras\\src\\engine\\training.py:3000: UserWarning: You are saving your model as an HDF5 file via `model.save()`. This file format is considered legacy. We recommend using instead the native Keras format, e.g. `model.save('my_model.keras')`.\n",
      "  saving_api.save_model(\n"
     ]
    }
   ],
   "source": [
    "model_json = model.to_json()\n",
    "with open(\"emotiondetector.json\",'w') as json_file:\n",
    "    json_file.write(model_json)\n",
    "model.save(\"emotiondetector.h5\")"
   ]
  },
  {
   "cell_type": "markdown",
   "id": "7f330332",
   "metadata": {},
   "source": [
    "* The model's architecture is converted to a JSON format using the to_json() method, which allows for easy storage and sharing of the model's structure.\n",
    "* The entire model, including both the architecture and the trained weights, is saved to a file named emotiondetector.h5. This format allows for easy loading and deployment of the model later."
   ]
  },
  {
   "cell_type": "code",
   "execution_count": 21,
   "id": "5cab449c",
   "metadata": {},
   "outputs": [],
   "source": [
    "from keras.models import model_from_json"
   ]
  },
  {
   "cell_type": "code",
   "execution_count": 22,
   "id": "646eca52",
   "metadata": {},
   "outputs": [],
   "source": [
    "json_file = open(\"emotiondetector.json\", \"r\")\n",
    "model_json = json_file.read()\n",
    "json_file.close()\n",
    "model = model_from_json(model_json)\n",
    "model.load_weights(\"emotiondetector.h5\")"
   ]
  },
  {
   "cell_type": "code",
   "execution_count": 23,
   "id": "06a49034",
   "metadata": {},
   "outputs": [],
   "source": [
    "label = ['angry','disgust','fear','happy','neutral','sad','surprise']"
   ]
  },
  {
   "cell_type": "code",
   "execution_count": 24,
   "id": "e0f2cf82",
   "metadata": {},
   "outputs": [],
   "source": [
    "def ef(image):\n",
    "    img = load_img(image,grayscale =  True )\n",
    "    feature = np.array(img)\n",
    "    feature = feature.reshape(1,48,48,1)\n",
    "    return feature/255.0"
   ]
  },
  {
   "cell_type": "code",
   "execution_count": 25,
   "id": "fcc136eb",
   "metadata": {},
   "outputs": [
    {
     "name": "stdout",
     "output_type": "stream",
     "text": [
      "original image is of Angry\n"
     ]
    },
    {
     "name": "stderr",
     "output_type": "stream",
     "text": [
      "C:\\Users\\haris\\AppData\\Local\\Programs\\Python\\Python311\\Lib\\site-packages\\keras_preprocessing\\image\\utils.py:107: UserWarning: grayscale is deprecated. Please use color_mode = \"grayscale\"\n",
      "  warnings.warn('grayscale is deprecated. Please use '\n"
     ]
    },
    {
     "name": "stdout",
     "output_type": "stream",
     "text": [
      "1/1 [==============================] - 3s 3s/step\n",
      "model prediction is  angry\n"
     ]
    }
   ],
   "source": [
    "image = r\"C:\\Users\\haris\\OneDrive\\Desktop\\Computer Vision\\test\\angry\\PrivateTest_1623042.jpg\"\n",
    "print(\"original image is of Angry\")\n",
    "img = ef(image)\n",
    "pred = model.predict(img)\n",
    "pred_label = label[pred.argmax()]\n",
    "print(\"model prediction is \",pred_label)"
   ]
  },
  {
   "cell_type": "code",
   "execution_count": 26,
   "id": "43261b59",
   "metadata": {},
   "outputs": [],
   "source": [
    "import matplotlib.pyplot as plt\n",
    "%matplotlib inline"
   ]
  },
  {
   "cell_type": "code",
   "execution_count": 27,
   "id": "b4622b34",
   "metadata": {},
   "outputs": [
    {
     "name": "stdout",
     "output_type": "stream",
     "text": [
      "original image is of Angry\n",
      "1/1 [==============================] - 0s 40ms/step\n",
      "model prediction is  angry\n"
     ]
    },
    {
     "name": "stderr",
     "output_type": "stream",
     "text": [
      "C:\\Users\\haris\\AppData\\Local\\Programs\\Python\\Python311\\Lib\\site-packages\\keras_preprocessing\\image\\utils.py:107: UserWarning: grayscale is deprecated. Please use color_mode = \"grayscale\"\n",
      "  warnings.warn('grayscale is deprecated. Please use '\n"
     ]
    },
    {
     "data": {
      "text/plain": [
       "<matplotlib.image.AxesImage at 0x228f25f9e50>"
      ]
     },
     "execution_count": 27,
     "metadata": {},
     "output_type": "execute_result"
    },
    {
     "data": {
      "image/png": "[encoded data removed]",
      "text/plain": [
       "<Figure size 640x480 with 1 Axes>"
      ]
     },
     "metadata": {},
     "output_type": "display_data"
    }
   ],
   "source": [
    "image = r\"C:\\Users\\haris\\OneDrive\\Desktop\\Computer Vision\\test\\angry\\PrivateTest_1623042.jpg\"\n",
    "print(\"original image is of Angry\")\n",
    "img = ef(image)\n",
    "pred = model.predict(img)\n",
    "pred_label = label[pred.argmax()]\n",
    "print(\"model prediction is \",pred_label)\n",
    "plt.imshow(img.reshape(48,48),cmap='gray')"
   ]
  },
  {
   "cell_type": "code",
   "execution_count": 28,
   "id": "38966c83",
   "metadata": {},
   "outputs": [
    {
     "name": "stdout",
     "output_type": "stream",
     "text": [
      "original image is of fear\n",
      "1/1 [==============================] - 0s 28ms/step\n",
      "model prediction is  sad\n"
     ]
    },
    {
     "data": {
      "text/plain": [
       "<matplotlib.image.AxesImage at 0x228c0894f50>"
      ]
     },
     "execution_count": 28,
     "metadata": {},
     "output_type": "execute_result"
    },
    {
     "data": {
      "image/png": "[encoded data removed]",
      "text/plain": [
       "<Figure size 640x480 with 1 Axes>"
      ]
     },
     "metadata": {},
     "output_type": "display_data"
    }
   ],
   "source": [
    "image = r'C:\\Users\\haris\\OneDrive\\Desktop\\Computer Vision\\test\\fear\\PrivateTest_623230.jpg'\n",
    "print(\"original image is of fear\")\n",
    "img = ef(image)\n",
    "pred = model.predict(img)\n",
    "pred_label = label[pred.argmax()]\n",
    "print(\"model prediction is \",pred_label)\n",
    "plt.imshow(img.reshape(48,48),cmap='gray')"
   ]
  },
  {
   "cell_type": "code",
   "execution_count": 29,
   "id": "a37c830f",
   "metadata": {},
   "outputs": [
    {
     "name": "stdout",
     "output_type": "stream",
     "text": [
      "original image is of disgust\n",
      "1/1 [==============================] - 0s 44ms/step\n",
      "model prediction is  disgust\n"
     ]
    },
    {
     "data": {
      "text/plain": [
       "<matplotlib.image.AxesImage at 0x228f3ffae10>"
      ]
     },
     "execution_count": 29,
     "metadata": {},
     "output_type": "execute_result"
    },
    {
     "data": {
      "image/png": "[encoded data removed]",
      "text/plain": [
       "<Figure size 640x480 with 1 Axes>"
      ]
     },
     "metadata": {},
     "output_type": "display_data"
    }
   ],
   "source": [
    "image = r\"C:\\Users\\haris\\OneDrive\\Desktop\\Computer Vision\\test\\disgust\\PrivateTest_4783181.jpg\"\n",
    "print(\"original image is of disgust\")\n",
    "img = ef(image)\n",
    "pred = model.predict(img)\n",
    "pred_label = label[pred.argmax()]\n",
    "print(\"model prediction is \",pred_label)\n",
    "plt.imshow(img.reshape(48,48),cmap='gray')"
   ]
  },
  {
   "cell_type": "code",
   "execution_count": 30,
   "id": "6e0e60e8",
   "metadata": {},
   "outputs": [
    {
     "name": "stdout",
     "output_type": "stream",
     "text": [
      "original image is of happy\n",
      "1/1 [==============================] - 0s 27ms/step\n",
      "model prediction is  happy\n"
     ]
    },
    {
     "data": {
      "text/plain": [
       "<matplotlib.image.AxesImage at 0x228f404fb90>"
      ]
     },
     "execution_count": 30,
     "metadata": {},
     "output_type": "execute_result"
    },
    {
     "data": {
      "image/png": "[encoded data removed]",
      "text/plain": [
       "<Figure size 640x480 with 1 Axes>"
      ]
     },
     "metadata": {},
     "output_type": "display_data"
    }
   ],
   "source": [
    "image = r\"C:\\Users\\haris\\OneDrive\\Desktop\\Computer Vision\\test\\happy\\PrivateTest_928647.jpg\"\n",
    "print(\"original image is of happy\")\n",
    "img = ef(image)\n",
    "pred = model.predict(img)\n",
    "pred_label = label[pred.argmax()]\n",
    "print(\"model prediction is \",pred_label)\n",
    "plt.imshow(img.reshape(48,48),cmap='gray')"
   ]
  },
  {
   "cell_type": "code",
   "execution_count": 31,
   "id": "f56a72a3",
   "metadata": {},
   "outputs": [
    {
     "name": "stdout",
     "output_type": "stream",
     "text": [
      "original image is of surprise\n",
      "1/1 [==============================] - 0s 35ms/step\n",
      "model prediction is  surprise\n"
     ]
    },
    {
     "data": {
      "text/plain": [
       "<matplotlib.image.AxesImage at 0x228f4096790>"
      ]
     },
     "execution_count": 31,
     "metadata": {},
     "output_type": "execute_result"
    },
    {
     "data": {
      "image/png": "[encoded data removed]",
      "text/plain": [
       "<Figure size 640x480 with 1 Axes>"
      ]
     },
     "metadata": {},
     "output_type": "display_data"
    }
   ],
   "source": [
    "image = r\"C:\\Users\\haris\\OneDrive\\Desktop\\Computer Vision\\test\\surprise\\PrivateTest_2034433.jpg\"\n",
    "print(\"original image is of surprise\")\n",
    "img = ef(image)\n",
    "pred = model.predict(img)\n",
    "pred_label = label[pred.argmax()]\n",
    "print(\"model prediction is \",pred_label)\n",
    "plt.imshow(img.reshape(48,48),cmap='gray')"
   ]
  },
  {
   "cell_type": "code",
   "execution_count": null,
   "id": "1bceaa78",
   "metadata": {},
   "outputs": [],
   "source": []
  },
  {
   "cell_type": "code",
   "execution_count": null,
   "id": "97717e67",
   "metadata": {},
   "outputs": [],
   "source": []
  },
  {
   "cell_type": "code",
   "execution_count": null,
   "id": "5d6f6957",
   "metadata": {},
   "outputs": [],
   "source": []
  }
 ],
 "metadata": {
  "kernelspec": {
   "display_name": "Python 3 (ipykernel)",
   "language": "python",
   "name": "python3"
  },
  "language_info": {
   "codemirror_mode": {
    "name": "ipython",
    "version": 3
   },
   "file_extension": ".py",
   "mimetype": "text/x-python",
   "name": "python",
   "nbconvert_exporter": "python",
   "pygments_lexer": "ipython3",
   "version": "3.11.3"
  }
 },
 "nbformat": 4,
 "nbformat_minor": 5
}
